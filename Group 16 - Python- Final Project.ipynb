{
 "cells": [
  {
   "cell_type": "code",
   "execution_count": 1,
   "id": "6b8bc8a6",
   "metadata": {},
   "outputs": [
    {
     "name": "stdout",
     "output_type": "stream",
     "text": [
      "        id  n24  rev24  revlast  elpsdm  ordfreq  ordcat  response\n",
      "0        1    2   30.0     20.0      24        1       6         1\n",
      "1        2   25  207.0     20.0      24        1       6         0\n",
      "2        3    5   52.0     15.0      24        1       6         0\n",
      "3        4   11  105.0     15.0      24        1       6         0\n",
      "4        5    2   32.0     17.0      24        1       6         0\n",
      "...    ...  ...    ...      ...     ...      ...     ...       ...\n",
      "1995  1996   12  105.0     20.0       1        2       6         0\n",
      "1996  1997   36  786.0      5.0       1        2       6         0\n",
      "1997  1998    7  415.0    100.0       1        1       7         0\n",
      "1998  1999    5   77.0     25.0       1        1       7         0\n",
      "1999  2000   34  469.0     31.0       1        1       6         0\n",
      "\n",
      "[2000 rows x 8 columns]\n",
      "        id  n24  rev24  revlast  elpsdm  ordfreq  ordcat  response\n",
      "0     5001    5  186.0       18      24        1       6         1\n",
      "1     5002    2   30.0       15      24        1       6         0\n",
      "2     5003   24  362.0       30      24        1       7         0\n",
      "3     5004    4   41.0       15      24        1       6         0\n",
      "4     5005    5   59.0       18      24        1       6         0\n",
      "...    ...  ...    ...      ...     ...      ...     ...       ...\n",
      "1995  6996    9  165.0        0       1        1       7         1\n",
      "1996  6997   11  149.0       15       1        3       6         0\n",
      "1997  6998   18  161.0       13       1        2       5         0\n",
      "1998  6999   26  427.0       25       1        4       7         0\n",
      "1999  7000    9  125.0        0       1        1       6         0\n",
      "\n",
      "[2000 rows x 8 columns]\n"
     ]
    }
   ],
   "source": [
    "import numpy as np\n",
    "import pandas as pd\n",
    "import sklearn\n",
    "from sklearn import tree\n",
    "import matplotlib.pyplot as plt\n",
    "import warnings\n",
    "from sklearn.model_selection import train_test_split\n",
    "from scipy.stats import skew\n",
    "from sklearn.tree import DecisionTreeClassifier\n",
    "\n",
    "warnings.filterwarnings('ignore')\n",
    "\n",
    "%matplotlib inline \n",
    "\n",
    "##read the cvs file into readable panda\n",
    "dmtest=pd.read_csv(\"./dmtest.csv\")\n",
    "dmtrain=pd.read_csv(\"./dmtrain.csv\")\n",
    "print(dmtrain)\n",
    "print(dmtest)"
   ]
  },
  {
   "cell_type": "code",
   "execution_count": 2,
   "id": "2a49c878",
   "metadata": {},
   "outputs": [
    {
     "data": {
      "text/html": [
       "<div>\n",
       "<style scoped>\n",
       "    .dataframe tbody tr th:only-of-type {\n",
       "        vertical-align: middle;\n",
       "    }\n",
       "\n",
       "    .dataframe tbody tr th {\n",
       "        vertical-align: top;\n",
       "    }\n",
       "\n",
       "    .dataframe thead th {\n",
       "        text-align: right;\n",
       "    }\n",
       "</style>\n",
       "<table border=\"1\" class=\"dataframe\">\n",
       "  <thead>\n",
       "    <tr style=\"text-align: right;\">\n",
       "      <th></th>\n",
       "      <th>id</th>\n",
       "      <th>elpsdm</th>\n",
       "      <th>ordfreq</th>\n",
       "      <th>ordcat</th>\n",
       "      <th>response</th>\n",
       "      <th>transformed_n24</th>\n",
       "      <th>transformed_rev24</th>\n",
       "      <th>transformed_revlast</th>\n",
       "    </tr>\n",
       "  </thead>\n",
       "  <tbody>\n",
       "    <tr>\n",
       "      <th>0</th>\n",
       "      <td>1</td>\n",
       "      <td>24</td>\n",
       "      <td>1</td>\n",
       "      <td>6</td>\n",
       "      <td>1</td>\n",
       "      <td>1.098612</td>\n",
       "      <td>3.433987</td>\n",
       "      <td>3.044522</td>\n",
       "    </tr>\n",
       "    <tr>\n",
       "      <th>1</th>\n",
       "      <td>2</td>\n",
       "      <td>24</td>\n",
       "      <td>1</td>\n",
       "      <td>6</td>\n",
       "      <td>0</td>\n",
       "      <td>3.258097</td>\n",
       "      <td>5.337538</td>\n",
       "      <td>3.044522</td>\n",
       "    </tr>\n",
       "    <tr>\n",
       "      <th>2</th>\n",
       "      <td>3</td>\n",
       "      <td>24</td>\n",
       "      <td>1</td>\n",
       "      <td>6</td>\n",
       "      <td>0</td>\n",
       "      <td>1.791759</td>\n",
       "      <td>3.970292</td>\n",
       "      <td>2.772589</td>\n",
       "    </tr>\n",
       "    <tr>\n",
       "      <th>3</th>\n",
       "      <td>4</td>\n",
       "      <td>24</td>\n",
       "      <td>1</td>\n",
       "      <td>6</td>\n",
       "      <td>0</td>\n",
       "      <td>2.484907</td>\n",
       "      <td>4.663439</td>\n",
       "      <td>2.772589</td>\n",
       "    </tr>\n",
       "    <tr>\n",
       "      <th>4</th>\n",
       "      <td>5</td>\n",
       "      <td>24</td>\n",
       "      <td>1</td>\n",
       "      <td>6</td>\n",
       "      <td>0</td>\n",
       "      <td>1.098612</td>\n",
       "      <td>3.496508</td>\n",
       "      <td>2.890372</td>\n",
       "    </tr>\n",
       "  </tbody>\n",
       "</table>\n",
       "</div>"
      ],
      "text/plain": [
       "   id  elpsdm  ordfreq  ordcat  response  transformed_n24  transformed_rev24  \\\n",
       "0   1      24        1       6         1         1.098612           3.433987   \n",
       "1   2      24        1       6         0         3.258097           5.337538   \n",
       "2   3      24        1       6         0         1.791759           3.970292   \n",
       "3   4      24        1       6         0         2.484907           4.663439   \n",
       "4   5      24        1       6         0         1.098612           3.496508   \n",
       "\n",
       "   transformed_revlast  \n",
       "0             3.044522  \n",
       "1             3.044522  \n",
       "2             2.772589  \n",
       "3             2.772589  \n",
       "4             2.890372  "
      ]
     },
     "execution_count": 2,
     "metadata": {},
     "output_type": "execute_result"
    }
   ],
   "source": [
    "## Question 1\n",
    "\n",
    "colNames = list(dmtrain.columns)\n",
    "\n",
    "## find how skewed each variable is\n",
    "skewed_vars = dmtrain.skew(axis = 0, skipna = True)\n",
    "\n",
    "## for all all the varibles skewed more than 1.5, use log transformation on them and replace the value\n",
    "for x in range(len(skewed_vars)):\n",
    "    skewedVal = skewed_vars[x]\n",
    "    if skewedVal > 1.5:\n",
    "        transformed = \"transformed_\" + colNames[x]\n",
    "        dmtrain[transformed] = np.log(dmtrain[colNames[x]]+1)\n",
    "        dmtrain.drop(colNames[x], axis = \"columns\", inplace = True)\n",
    "\n",
    "dmtrain.head()"
   ]
  },
  {
   "cell_type": "code",
   "execution_count": 3,
   "id": "8c5e2ad9",
   "metadata": {},
   "outputs": [
    {
     "name": "stdout",
     "output_type": "stream",
     "text": [
      "depth is 26\n"
     ]
    }
   ],
   "source": [
    "## Question 2\n",
    "X = dmtrain.drop(columns = [\"response\", \"id\"])\n",
    "y = dmtrain[\"response\"]\n",
    "\n",
    "clf = DecisionTreeClassifier(criterion = 'entropy', random_state = 0)\n",
    "\n",
    "clf.fit(X, y)\n",
    "clf.score(X, y), clf.score(X, y)\n",
    "\n",
    "## this is the depth of the tree\n",
    "depth = clf.get_depth()\n",
    "print(f\"depth is {depth}\")"
   ]
  },
  {
   "cell_type": "code",
   "execution_count": 4,
   "id": "c858a6f1",
   "metadata": {},
   "outputs": [
    {
     "name": "stdout",
     "output_type": "stream",
     "text": [
      "Best tree depth: 1\n",
      "Accuracy on training data: 0.708\n"
     ]
    }
   ],
   "source": [
    "## Question 3\n",
    "## this is a grid search for the best depth\n",
    "## chatgpt\n",
    "from sklearn.model_selection import GridSearchCV\n",
    "\n",
    "\n",
    "param_grid = {'max_depth': range(1, 20)}\n",
    "grid_search = GridSearchCV(DecisionTreeClassifier(criterion='entropy'), param_grid, cv=10)\n",
    "grid_search.fit(X, y)\n",
    "\n",
    "best_depth = grid_search.best_params_['max_depth']\n",
    "print(\"Best tree depth:\", best_depth)\n",
    "print(\"Accuracy on training data:\", grid_search.best_score_)"
   ]
  },
  {
   "cell_type": "code",
   "execution_count": 15,
   "id": "18a04bbd",
   "metadata": {},
   "outputs": [
    {
     "name": "stdout",
     "output_type": "stream",
     "text": [
      "Best tree depth in random forest (100 trees): 3\n",
      "Accuracy on training data (random forest): 0.7085\n"
     ]
    }
   ],
   "source": [
    "## Question 4\n",
    "from sklearn.ensemble import RandomForestClassifier\n",
    "\n",
    "## Grid search for best depth in random forest\n",
    "param_grid = {'max_depth': range(1, 20)}\n",
    "grid_search_rf = GridSearchCV(RandomForestClassifier(n_estimators=100), param_grid, cv=10)\n",
    "grid_search_rf.fit(X, y)\n",
    "\n",
    "best_depth_rf = grid_search_rf.best_params_['max_depth']\n",
    "print(\"Best tree depth in random forest (100 trees):\", best_depth_rf)\n",
    "print(\"Accuracy on training data (random forest):\", grid_search_rf.best_score_)"
   ]
  },
  {
   "cell_type": "code",
   "execution_count": 6,
   "id": "044dd42b",
   "metadata": {},
   "outputs": [
    {
     "name": "stdout",
     "output_type": "stream",
     "text": [
      "Best tree depth in random forest (50 trees): 4\n",
      "Accuracy on training data (random forest, 50 trees): 0.7084999999999999\n"
     ]
    }
   ],
   "source": [
    "## Question 5\n",
    "## Grid search for best depth with 50 trees\n",
    "grid_search_rf_50 = GridSearchCV(RandomForestClassifier(n_estimators=50), param_grid, cv=10)\n",
    "grid_search_rf_50.fit(X, y)\n",
    "\n",
    "best_depth_rf_50 = grid_search_rf_50.best_params_['max_depth']\n",
    "print(\"Best tree depth in random forest (50 trees):\", best_depth_rf_50)\n",
    "print(\"Accuracy on training data (random forest, 50 trees):\", grid_search_rf_50.best_score_)"
   ]
  },
  {
   "cell_type": "code",
   "execution_count": 7,
   "id": "c1ec6422",
   "metadata": {},
   "outputs": [
    {
     "name": "stdout",
     "output_type": "stream",
     "text": [
      "Accuracy of logistic regression: 0.7099999999999999\n"
     ]
    }
   ],
   "source": [
    "## Question 6\n",
    "\n",
    "from sklearn.linear_model import LogisticRegression\n",
    "from sklearn.model_selection import cross_val_score\n",
    "\n",
    "## Logistic regression with cross-validation\n",
    "log_reg = LogisticRegression(max_iter=1000)\n",
    "accuracy_log_reg = np.mean(cross_val_score(log_reg, X, y, cv=10))\n",
    "\n",
    "print(\"Accuracy of logistic regression:\", accuracy_log_reg)"
   ]
  },
  {
   "cell_type": "code",
   "execution_count": 8,
   "id": "c00a0a70",
   "metadata": {},
   "outputs": [],
   "source": [
    "## Question 7\n",
    "# Based on the accuracy results and the simplicity of the models, I would recommend logistic regression with cross-validation.\n",
    "\n",
    "# Here's why:\n",
    "\n",
    "# Accuracy:\n",
    "# Logistic Regression with cross-validation has an accuracy of 0.71, which is slightly higher than the decision tree and random forest models.\n",
    "# Model Complexity:\n",
    "# Logistic Regression is a simple model that tends to perform well with binary classification tasks, like the one you described.\n",
    "# Decision trees and random forests may have a tendency to overfit, especially when the depth of the trees is not properly tuned, as evidenced by the fact that the best depth for both models is just 1.\n",
    "# Interpretability:\n",
    "# Logistic Regression provides easily interpretable coefficients, making it easier to understand the impact of each feature on the prediction."
   ]
  },
  {
   "cell_type": "code",
   "execution_count": null,
   "id": "c2f9e193",
   "metadata": {},
   "outputs": [],
   "source": []
  },
  {
   "cell_type": "code",
   "execution_count": null,
   "id": "760ea504",
   "metadata": {},
   "outputs": [],
   "source": []
  },
  {
   "cell_type": "code",
   "execution_count": 48,
   "id": "c518588f",
   "metadata": {},
   "outputs": [
    {
     "name": "stdout",
     "output_type": "stream",
     "text": [
      "<bound method ClassifierMixin.score of RandomForestClassifier(max_depth=3)>\n"
     ]
    }
   ],
   "source": [
    "## Question 8\n",
    "from sklearn.preprocessing import PowerTransformer\n",
    "\n",
    "## transform the skewed variables in training data\n",
    "## perform a power transformation on skewed columns within a DataFrame named \n",
    "transformer = PowerTransformer()\n",
    "# print(dmtrain['transformed_n24'],\"TRANSFORMED_N24\")\n",
    "dummy_array=np.array(dmtrain['transformed_n24'])\n",
    "# dummy_array= dummy_array.reshape(-1, 1)\n",
    "dummy_array=dummy_array.reshape(-1, 1)\n",
    "# they transformed the data that is considered to be skewed with the tranformer instancnce \n",
    "dmtrain['transformed_n24'] = transformer.fit_transform(dummy_array)\n",
    "\n",
    "## Read test data\n",
    "test_data = pd.read_csv(\"dmtest.csv\")\n",
    "dummy_array2=test_data[\"rev24\"]\n",
    "dummy_array2=np.array(dummy_array2)\n",
    "dummy_array2=dummy_array.reshape(-1, 1)\n",
    "# they put the data back to the test_data coloumn that is already transformed in transfomer. \n",
    "test_data[\"transformed_n24\"] = transformer.transform(dummy_array2)\n",
    "\n",
    "\n",
    "##Separate features and target\n",
    "\n",
    "#the code bellow is droping the data \"response so it not include the fiiting\"\n",
    "X_test = test_data.drop(columns=[\"response\"])\n",
    "# the data using the response  as a y_test\n",
    "y_test = test_data[\"response\"]\n",
    "\n",
    "## Predict using the best model (Random Forest with 100 trees and best depth)\n",
    "best_model = grid_search_rf.best_estimator_\n",
    "# predict the towards the best model \n",
    "X_test=X_test.drop(columns=[\"id\",\"transformed_n24\"])\n",
    "y_pred = best_model.predict(X_test)\n",
    "print(best_model.score)\n"
   ]
  },
  {
   "cell_type": "code",
   "execution_count": 18,
   "id": "a80b4500",
   "metadata": {},
   "outputs": [
    {
     "name": "stdout",
     "output_type": "stream",
     "text": [
      "Accuracy: 0.6875\n",
      "Classification Report:\n",
      "              precision    recall  f1-score   support\n",
      "\n",
      "           0       0.69      1.00      0.81       272\n",
      "           1       1.00      0.02      0.05       128\n",
      "\n",
      "    accuracy                           0.69       400\n",
      "   macro avg       0.84      0.51      0.43       400\n",
      "weighted avg       0.79      0.69      0.57       400\n",
      "\n",
      "Confusion Matrix:\n",
      "[[272   0]\n",
      " [125   3]]\n"
     ]
    }
   ],
   "source": [
    "# Question 8- other way /// Vee\n",
    "# Load the stuff we need\n",
    "import pandas as pd\n",
    "from sklearn.model_selection import train_test_split\n",
    "from sklearn.linear_model import LogisticRegression\n",
    "from sklearn.metrics import accuracy_score, classification_report\n",
    "\n",
    "# Read data from csv file\n",
    "df = pd.read_csv(\"dmtrain.csv\")\n",
    "\n",
    "# We need these columns to predict stuff\n",
    "features = ['n24', 'rev24', 'revlast', 'elpsdm', 'ordfreq', 'ordcat']\n",
    "X = df[features]\n",
    "y = df['response']  # This is what we want to predict\n",
    "\n",
    "# Split data into parts for training and testing\n",
    "X_train, X_test, y_train, y_test = train_test_split(X, y, test_size=0.2, random_state=42)\n",
    "\n",
    "# Make a logistic regression model\n",
    "model = LogisticRegression(max_iter=1000)  # Use a big number for max_iter to be safe\n",
    "\n",
    "# Train the model with the training data\n",
    "model.fit(X_train, y_train)\n",
    "\n",
    "# Check how well our model works on the test data\n",
    "y_pred = model.predict(X_test)\n",
    "\n",
    "# How accurate was our model?\n",
    "accuracy = accuracy_score(y_test, y_pred)\n",
    "print(\"Accuracy:\", accuracy)\n",
    "\n",
    "# Get more details on how well our model did\n",
    "report = classification_report(y_test, y_pred)\n",
    "print(\"Classification Report:\")\n",
    "print(report)\n",
    "\n",
    "# Get confusion matrix\n",
    "conf_matrix = confusion_matrix(y_test, y_pred)\n",
    "print(\"Confusion Matrix:\")\n",
    "print(conf_matrix)\n"
   ]
  },
  {
   "cell_type": "code",
   "execution_count": null,
   "id": "5cad8a69",
   "metadata": {},
   "outputs": [],
   "source": []
  }
 ],
 "metadata": {
  "kernelspec": {
   "display_name": "Python 3 (ipykernel)",
   "language": "python",
   "name": "python3"
  },
  "language_info": {
   "codemirror_mode": {
    "name": "ipython",
    "version": 3
   },
   "file_extension": ".py",
   "mimetype": "text/x-python",
   "name": "python",
   "nbconvert_exporter": "python",
   "pygments_lexer": "ipython3",
   "version": "3.11.5"
  }
 },
 "nbformat": 4,
 "nbformat_minor": 5
}
